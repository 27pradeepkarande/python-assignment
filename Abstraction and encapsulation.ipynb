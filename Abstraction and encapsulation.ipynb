{
 "cells": [
  {
   "cell_type": "markdown",
   "id": "b2e2037e-ce09-4638-a3b5-08679a088a4a",
   "metadata": {},
   "source": [
    "## Oops Assignment(Abstraction and encapsulation)"
   ]
  },
  {
   "cell_type": "code",
   "execution_count": null,
   "id": "c350aa33-97d1-4d7c-aeee-01f694ff6b94",
   "metadata": {},
   "outputs": [],
   "source": [
    "1. What is Abstraction in oops. explain with example \n",
    "ans :- In object-oriented programming (OOP), abstraction is a fundamental concept that involves simplifying complex \n",
    "       systems by modeling classes based on the essential features and ignoring unnecessary details. It allows you to\n",
    "       focus on the relevant characteristics of an object or a system while hiding the implementation details.\n",
    "        "
   ]
  },
  {
   "cell_type": "code",
   "execution_count": null,
   "id": "057ff238-8d86-4768-b5d1-1e43f97e203f",
   "metadata": {},
   "outputs": [],
   "source": [
    "2. Differientiate between Abstraction and Encapsulation.Explain with Example\n",
    "ans :- Abstraction and encapsulation are two important concepts in object-oriented programming (OOP), and while\n",
    "       they are related, they refer to different aspects of the design and implementation of classes. \n",
    "      \n",
    "        1.Abstraction :- \n",
    "         Abstraction is the process of simplifying complex systems by modeling classes based on the essential features\n",
    "        and ignoring unnecessary details. It allows you to focus on what an object does rather than how it achieves its functionality.\n",
    "        \n",
    "        2.Encapsulation :- \n",
    "         Encapsulation is the bundling of data and methods that operate on the data into a single unit, known as a class. It restricts\n",
    "        access to some of an object's components and prevents the accidental modification of data.\n",
    "        \n",
    "\n"
   ]
  },
  {
   "cell_type": "code",
   "execution_count": null,
   "id": "6ca76805-5ffa-4c83-9fcf-2cba3b2b827c",
   "metadata": {},
   "outputs": [],
   "source": [
    "3. What is abc module in python? Why is it used?\n",
    "ans :- In Python, the abc module stands for \"Abstract Base Classes.\" It provides the infrastructure for defining abstract \n",
    "       base classes in a way that allows you to define a common interface for a set of related classes without implementing the \n",
    "       details of those classes. Abstract base classes help in achieving abstraction and can be used to enforce a certain structure\n",
    "       or set of methods in derived classes. \n",
    "        The abc module is used to create a structure where certain methods must be implemented by subclasses, enforcing a consistent\n",
    "        interface across related classes. This helps in achieving abstraction and ensures that classes derived from the abstract base\n",
    "        class adhere to a common set of methods.\n",
    "\n",
    "\n",
    "\n",
    "\n"
   ]
  },
  {
   "cell_type": "code",
   "execution_count": null,
   "id": "b520822d-9f11-4e8a-9aee-0648459d1e82",
   "metadata": {},
   "outputs": [],
   "source": [
    "4. How can we achieve data abstraction?\n",
    "ans :- In short, data abstraction in programming is achieved by:\n",
    "    \n",
    "      -Using classes and objects to represent abstract data types.\n",
    "      -Encapsulating data by making attributes private and providing controlled access through methods.\n",
    "      -Employing abstract classes and interfaces to define a common interface for related classes.\n",
    "      -Emphasizing polymorphism to treat objects of different classes uniformly based on their common interface.\n",
    "\n",
    "        These strategies help hide implementation details, making code more modular and maintainable."
   ]
  },
  {
   "cell_type": "code",
   "execution_count": null,
   "id": "da3e7f39-9950-4c73-868b-f99acd30df2f",
   "metadata": {},
   "outputs": [],
   "source": [
    "5. can we create an instances of an abstrast class?Explain your Answer.\n",
    "ans :-  You cannot create an instance of an abstract class in Python. Abstract classes are meant to be subclassed, \n",
    "        and instances should be created from concrete subclasses that provide implementations for all abstract methods."
   ]
  }
 ],
 "metadata": {
  "kernelspec": {
   "display_name": "Python 3 (ipykernel)",
   "language": "python",
   "name": "python3"
  },
  "language_info": {
   "codemirror_mode": {
    "name": "ipython",
    "version": 3
   },
   "file_extension": ".py",
   "mimetype": "text/x-python",
   "name": "python",
   "nbconvert_exporter": "python",
   "pygments_lexer": "ipython3",
   "version": "3.10.8"
  }
 },
 "nbformat": 4,
 "nbformat_minor": 5
}
