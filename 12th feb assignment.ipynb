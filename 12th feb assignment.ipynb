{
 "cells": [
  {
   "cell_type": "markdown",
   "id": "0cd47226-d495-4c31-9a5a-33a8d948e213",
   "metadata": {},
   "source": [
    "## This is the Exception Handling 1 assingment"
   ]
  },
  {
   "cell_type": "raw",
   "id": "12e45de2-a4b8-4a96-9779-0429fd196483",
   "metadata": {},
   "source": [
    "1. What is an exception in python.write the difference between exception and syntax error.\n",
    "ans :- Exception arise during the execution of a python program.This is the situation that we can't \n",
    "       able to execute that code.This gaves us the exception error while executing.so for handling that we have                exception handling in python which is perform on basis of try , except , else and finally keyword.\n",
    "       \n",
    "       Diff b/w exception and syntax error\n",
    "       -Syntax error occurs when we have error in syntax the user has executing the wrong syntax or differnt syntax for        different operations then we get the syntax error it can be able to solve while syntax checking and debugging.\n",
    "       \n",
    "       -Exception is the situation in code which we can't do anything we just have to execute with the using except             block"
   ]
  },
  {
   "cell_type": "raw",
   "id": "f4711ab6-c1ed-4928-a537-a19d2cff241f",
   "metadata": {},
   "source": [
    "2. What happens when a exception is not handled ? Explain with example\n",
    "ans :- When an exception is not handled in Python, the program will crash. This is because the exception will propagate        up the call stack until it reaches the top level, where it will be raised. The Python interpreter will then              generate a traceback, which is a stack trace of where the exception occurred.\n",
    "   \n",
    "       Example :-\n",
    "       def divide(a, b):\n",
    "        return a / b\n",
    " \n",
    "             x = 10\n",
    "             y = 0\n",
    "\n",
    "        result = divide(x, y)\n",
    "        print(result)\n",
    "        \n",
    "        This will give us the ZeroDivisionError\n",
    "       "
   ]
  },
  {
   "cell_type": "code",
   "execution_count": 1,
   "id": "b10e1580-5813-47d7-a7c5-d95072bb1643",
   "metadata": {},
   "outputs": [
    {
     "ename": "ZeroDivisionError",
     "evalue": "division by zero",
     "output_type": "error",
     "traceback": [
      "\u001b[0;31m---------------------------------------------------------------------------\u001b[0m",
      "\u001b[0;31mZeroDivisionError\u001b[0m                         Traceback (most recent call last)",
      "Cell \u001b[0;32mIn[1], line 7\u001b[0m\n\u001b[1;32m      4\u001b[0m x \u001b[38;5;241m=\u001b[39m \u001b[38;5;241m10\u001b[39m\n\u001b[1;32m      5\u001b[0m y \u001b[38;5;241m=\u001b[39m \u001b[38;5;241m0\u001b[39m\n\u001b[0;32m----> 7\u001b[0m result \u001b[38;5;241m=\u001b[39m \u001b[43mdivide\u001b[49m\u001b[43m(\u001b[49m\u001b[43mx\u001b[49m\u001b[43m,\u001b[49m\u001b[43m \u001b[49m\u001b[43my\u001b[49m\u001b[43m)\u001b[49m\n\u001b[1;32m      8\u001b[0m \u001b[38;5;28mprint\u001b[39m(result)\n",
      "Cell \u001b[0;32mIn[1], line 2\u001b[0m, in \u001b[0;36mdivide\u001b[0;34m(a, b)\u001b[0m\n\u001b[1;32m      1\u001b[0m \u001b[38;5;28;01mdef\u001b[39;00m \u001b[38;5;21mdivide\u001b[39m(a, b):\n\u001b[0;32m----> 2\u001b[0m   \u001b[38;5;28;01mreturn\u001b[39;00m \u001b[43ma\u001b[49m\u001b[43m \u001b[49m\u001b[38;5;241;43m/\u001b[39;49m\u001b[43m \u001b[49m\u001b[43mb\u001b[49m\n",
      "\u001b[0;31mZeroDivisionError\u001b[0m: division by zero"
     ]
    }
   ],
   "source": [
    "def divide(a, b):\n",
    "  return a / b\n",
    "\n",
    "x = 10\n",
    "y = 0\n",
    "\n",
    "result = divide(x, y)\n",
    "print(result)"
   ]
  },
  {
   "cell_type": "raw",
   "id": "004069e5-a279-4be8-84d3-5939d20e3c19",
   "metadata": {},
   "source": [
    "3. Which python statement are used to catch and handle exceptions? Explain with an Example.\n",
    "Ans :- The try and exept statement are used to handle the exception in python programming language.\n",
    "       example :-\n",
    "      try :\n",
    "        result= a/0\n",
    "      except ZeroDivisionError:\n",
    "        print(\"This is a division by zero error\")"
   ]
  },
  {
   "cell_type": "code",
   "execution_count": 15,
   "id": "e96b8c5f-d3b2-4500-9be2-207eaee71e86",
   "metadata": {},
   "outputs": [
    {
     "name": "stdout",
     "output_type": "stream",
     "text": [
      "This is a division by zero error\n"
     ]
    }
   ],
   "source": [
    "try :\n",
    "    result= a/0\n",
    "except ZeroDivisionError:\n",
    "    print(\"This is a division by zero error\")"
   ]
  },
  {
   "cell_type": "raw",
   "id": "a202c932-5657-48ef-9742-f405024076f5",
   "metadata": {},
   "source": [
    "4.Explain with example\n",
    "\n",
    "a. try and else\n",
    "ans:- The try statement is used to analyze the code to find the exception if it is executable it will forward to else or       it is not then it will forward to except.\n",
    "      The else statement is used with try statement if any statement or loc didn't have any exception then it will             execute the code under the else statement.\n",
    "      \n",
    "      example z:-\n",
    "       \n",
    "       try  :\n",
    "        f=open(\"testfile.txt\" , 'w')\n",
    "        f.write(\"Write into my file\")\n",
    "       except exception as e :\n",
    "        print('This is the excepion of the program')\n",
    "       else :\n",
    "        f.close()\n",
    "        print('This will be execute when try will execute successfully')\n",
    "        \n",
    "b.finally\n",
    "ans:- The finally statement is used to execute the statement at any cost wheather it contains exception or not.\n",
    "      Example :\n",
    "       \n",
    "       try :\n",
    "        f=open('test.txt' , 'r')\n",
    "        f.write(\"Write into this file\")\n",
    "       finally :\n",
    "        print(\"This will get executed on any basis\")\n",
    "\n",
    "c.raise\n",
    "ans:- The raise statement is used to raise an exception manually defined by user by  using raise statement user can           raise an exception.\n",
    "      Example:\n",
    "      \n",
    "      def validateage(age):\n",
    "       if age < 0 :\n",
    "        raise validateage('This is an negative age ')"
   ]
  },
  {
   "cell_type": "raw",
   "id": "d7b1d8a6-dee2-444e-9531-b40c23490532",
   "metadata": {},
   "source": [
    "5. What are custom exceptions in python? Why do we need Custom Exceptions?Explain with example\n",
    "ans:- The custom exceptions is the exceptions is not system defined it is manually devolped by user with the using raise       statement.\n",
    "      Need for custom exception:\n",
    "      The custom exception is very important sometime because there are some sitution in the programme which need to be       resolve using exception.\n",
    "      Example:-\n",
    "      \n",
    "      def validateage(age):\n",
    "       if age < 0 :\n",
    "        raise validateage('This is an negative age ')"
   ]
  },
  {
   "cell_type": "raw",
   "id": "05a4feda-e415-480d-84ea-19334a12b0b3",
   "metadata": {},
   "source": [
    "6. Create a custom exception class.use this class to handle the exception.\n",
    "ans:-\n",
    "     class validateage"
   ]
  }
 ],
 "metadata": {
  "kernelspec": {
   "display_name": "Python 3 (ipykernel)",
   "language": "python",
   "name": "python3"
  },
  "language_info": {
   "codemirror_mode": {
    "name": "ipython",
    "version": 3
   },
   "file_extension": ".py",
   "mimetype": "text/x-python",
   "name": "python",
   "nbconvert_exporter": "python",
   "pygments_lexer": "ipython3",
   "version": "3.10.8"
  }
 },
 "nbformat": 4,
 "nbformat_minor": 5
}
